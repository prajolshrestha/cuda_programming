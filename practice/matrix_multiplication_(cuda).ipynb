{
  "nbformat": 4,
  "nbformat_minor": 0,
  "metadata": {
    "colab": {
      "provenance": [],
      "toc_visible": true,
      "authorship_tag": "ABX9TyMKTBlDsLljHUszbMIj85h7"
    },
    "kernelspec": {
      "name": "python3",
      "display_name": "Python 3"
    },
    "language_info": {
      "name": "python"
    },
    "accelerator": "GPU",
    "gpuClass": "standard"
  },
  "cells": [
    {
      "cell_type": "code",
      "source": [
        "!pip install pycuda"
      ],
      "metadata": {
        "colab": {
          "base_uri": "https://localhost:8080/"
        },
        "id": "cvRkI99fIy47",
        "outputId": "1122203f-eb0b-40e6-ab27-14a8cd45f7a9"
      },
      "execution_count": 16,
      "outputs": [
        {
          "output_type": "stream",
          "name": "stdout",
          "text": [
            "Looking in indexes: https://pypi.org/simple, https://us-python.pkg.dev/colab-wheels/public/simple/\n",
            "Requirement already satisfied: pycuda in /usr/local/lib/python3.9/dist-packages (2022.2.2)\n",
            "Requirement already satisfied: mako in /usr/local/lib/python3.9/dist-packages (from pycuda) (1.2.4)\n",
            "Requirement already satisfied: pytools>=2011.2 in /usr/local/lib/python3.9/dist-packages (from pycuda) (2022.1.14)\n",
            "Requirement already satisfied: appdirs>=1.4.0 in /usr/local/lib/python3.9/dist-packages (from pycuda) (1.4.4)\n",
            "Requirement already satisfied: platformdirs>=2.2.0 in /usr/local/lib/python3.9/dist-packages (from pytools>=2011.2->pycuda) (3.2.0)\n",
            "Requirement already satisfied: typing-extensions>=4.0 in /usr/local/lib/python3.9/dist-packages (from pytools>=2011.2->pycuda) (4.5.0)\n",
            "Requirement already satisfied: MarkupSafe>=0.9.2 in /usr/local/lib/python3.9/dist-packages (from mako->pycuda) (2.1.2)\n"
          ]
        }
      ]
    },
    {
      "cell_type": "markdown",
      "source": [
        "## Import"
      ],
      "metadata": {
        "id": "mY9zFt9iTfYn"
      }
    },
    {
      "cell_type": "code",
      "source": [
        "import pycuda.driver as cuda\n",
        "import pycuda.autoinit\n",
        "from pycuda.compiler import SourceModule\n",
        "import numpy as np\n",
        "from timeit import default_timer as timer"
      ],
      "metadata": {
        "id": "Bycu8FeTTces"
      },
      "execution_count": 17,
      "outputs": []
    },
    {
      "cell_type": "code",
      "source": [
        "start = timer() # timer"
      ],
      "metadata": {
        "id": "IBqb4YOhTkjm"
      },
      "execution_count": 18,
      "outputs": []
    },
    {
      "cell_type": "code",
      "source": [
        "# Define matrix sizes\n",
        "size = 128\n",
        "n = size*size"
      ],
      "metadata": {
        "id": "3EhAOFbnTs_F"
      },
      "execution_count": 19,
      "outputs": []
    },
    {
      "cell_type": "code",
      "source": [
        "# create random input matrices\n",
        "a = np.random.randn(size,size).astype(np.float32)\n",
        "b = np.random.randn(size,size).astype(np.float32)"
      ],
      "metadata": {
        "id": "odvXELnfTyfU"
      },
      "execution_count": 20,
      "outputs": []
    },
    {
      "cell_type": "code",
      "source": [
        "# Allocate memory on the device\n",
        "a_gpu = cuda.mem_alloc(a.nbytes)\n",
        "b_gpu = cuda.mem_alloc(b.nbytes)\n",
        "c_gpu = cuda.mem_alloc(b.nbytes)"
      ],
      "metadata": {
        "id": "awYPwi1dUKNs"
      },
      "execution_count": 21,
      "outputs": []
    },
    {
      "cell_type": "code",
      "source": [
        "# Copy input matrices to device memory\n",
        "cuda.memcpy_htod(a_gpu, a)\n",
        "cuda.memcpy_htod(b_gpu, b)"
      ],
      "metadata": {
        "id": "RqtBi_ysVuSR"
      },
      "execution_count": 22,
      "outputs": []
    },
    {
      "cell_type": "markdown",
      "source": [
        "## Main cuda kernel function"
      ],
      "metadata": {
        "id": "h2t_aMZriuCz"
      }
    },
    {
      "cell_type": "code",
      "source": [
        "# Define the cuda kernel function for matrix multiplication\n",
        "## The blockIdx and blockDim variables represent the index and dimensions of the block of threads \n",
        "#currently executing on the GPU, while threadIdx represents the index of the current thread within the block. \n",
        "#Multiplying the block index by the block dimension and adding the thread index gives the global index of \n",
        "#the current thread\n",
        "\n",
        "mod = SourceModule(\"\"\"\n",
        "    __global__ void matrix_mul(float *a, float *b, float *c, int size) {\n",
        "        int row = blockIdx.y * blockDim.y + threadIdx.y;\n",
        "        int col = blockIdx.x * blockDim.x + threadIdx.x;\n",
        "        float sum = 0.0;\n",
        "        if (row < size && col < size) {\n",
        "            for (int i = 0; i < size; i++) {\n",
        "                sum += a[row*size + i] * b[i*size + col];\n",
        "            }\n",
        "            c[row*size + col] = sum;\n",
        "        }\n",
        "    }\n",
        "\"\"\")\n",
        "\n",
        "\n",
        "# Get a handle to the kernel function\n",
        "matrix_mul = mod.get_function(\"matrix_mul\")"
      ],
      "metadata": {
        "id": "nwbDpM9yXJph"
      },
      "execution_count": 23,
      "outputs": []
    },
    {
      "cell_type": "code",
      "source": [
        "# set block size and \n",
        "# set grid sizes for the GPU threads, based on the block size and size of the matrices\n",
        "block_size = (16,16,1)\n",
        "grid_size = (int(np.ceil(size/block_size[0])), int(np.ceil(size/block_size[1])),1)"
      ],
      "metadata": {
        "id": "eXeqgmVXf1ky"
      },
      "execution_count": 24,
      "outputs": []
    },
    {
      "cell_type": "code",
      "source": [
        "# Call the kernel function with input matrices and output matrix\n",
        "matrix_mul(a_gpu, b_gpu, c_gpu, np.int32(size), block=block_size, grid = grid_size)"
      ],
      "metadata": {
        "id": "9L1H3e0fgjbJ"
      },
      "execution_count": 25,
      "outputs": []
    },
    {
      "cell_type": "code",
      "source": [
        "# Allocate output memory on the host\n",
        "c = np.zeros_like(a)"
      ],
      "metadata": {
        "id": "eNbSmmQRg6Gn"
      },
      "execution_count": 26,
      "outputs": []
    },
    {
      "cell_type": "code",
      "source": [
        "# Copy output matrix from device memory to host memory\n",
        "cuda.memcpy_dtoh(c, c_gpu)"
      ],
      "metadata": {
        "id": "P0bm67jjhDwN"
      },
      "execution_count": 27,
      "outputs": []
    },
    {
      "cell_type": "code",
      "source": [
        "# Print input matrices and output matrix\n",
        "print(\"Input matrix A:\\n\", a)\n",
        "print(\"Input matrix B:\\n\", b)\n",
        "print(\"Output matrix C:\\n\", c)\n"
      ],
      "metadata": {
        "colab": {
          "base_uri": "https://localhost:8080/"
        },
        "id": "EoXG78KqCQiK",
        "outputId": "fc6ec89d-d38e-4e77-aac1-fa197f2a99ed"
      },
      "execution_count": 28,
      "outputs": [
        {
          "output_type": "stream",
          "name": "stdout",
          "text": [
            "Input matrix A:\n",
            " [[-0.18593542  0.22338021  0.9246134  ...  1.4793277  -0.81670374\n",
            "   1.2977253 ]\n",
            " [-2.1923976  -1.0449134   0.53853834 ...  0.9291856  -0.8984373\n",
            "  -0.21670759]\n",
            " [ 1.1322881   0.53256243 -0.21414477 ...  1.2548547  -0.5611202\n",
            "  -1.6145923 ]\n",
            " ...\n",
            " [ 1.0715582   1.0596999   1.1684084  ... -0.9959401  -1.6303049\n",
            "  -0.1987654 ]\n",
            " [-0.7453522  -0.63320214 -0.5112142  ...  0.62949115  0.7362164\n",
            "  -0.31776693]\n",
            " [ 0.10025843  0.7125079  -1.1531451  ...  0.3829878   0.95050937\n",
            "  -1.3341309 ]]\n",
            "Input matrix B:\n",
            " [[-0.37089834 -0.18000051 -0.5973354  ...  0.661749    0.33668098\n",
            "   1.3884872 ]\n",
            " [ 0.21834491  0.9311182  -0.97298056 ...  0.95110714  0.8425769\n",
            "  -2.1147854 ]\n",
            " [ 1.3106351  -0.67547995  0.9089664  ... -0.21392515 -0.9622833\n",
            "   0.14477128]\n",
            " ...\n",
            " [-0.2453667   1.0754032  -0.5395588  ...  1.814994    0.93486553\n",
            "  -1.6704469 ]\n",
            " [ 1.3035117  -0.5653697   1.0519493  ... -0.25452402  0.02995426\n",
            "   1.6732676 ]\n",
            " [ 1.7481467   0.4807404   1.133023   ... -0.3796426  -0.8501197\n",
            "  -0.8853971 ]]\n",
            "Output matrix C:\n",
            " [[ 1.8465557e+01 -2.5909634e+00 -3.6374196e-01 ... -1.1740428e+01\n",
            "  -2.6281511e+01  1.0256735e+01]\n",
            " [-1.5352698e+01 -1.5818789e+01  1.6877793e+00 ... -1.2581602e+01\n",
            "   3.0195930e+00  7.9588089e+00]\n",
            " [-1.9494602e+01  6.6325493e+00 -2.6894498e+00 ... -4.8803277e+00\n",
            "   1.1245736e-02 -8.8794956e+00]\n",
            " ...\n",
            " [-1.2329191e+01 -2.8779903e+01 -2.0953519e+00 ... -1.1849611e+01\n",
            "   1.3763806e+01 -9.0035849e+00]\n",
            " [-1.1198796e+01 -1.3246757e+00 -7.7467299e+00 ...  2.4143865e+00\n",
            "   1.5864509e+00  4.3252330e+00]\n",
            " [-2.4897356e+01  4.5925002e+00  6.8622985e+00 ...  1.4146270e+01\n",
            "  -2.2607401e+01  2.9363372e+00]]\n"
          ]
        }
      ]
    },
    {
      "cell_type": "code",
      "source": [
        "end_time = timer() - start\n",
        "print(\"Multiplication time:\", end_time)\n"
      ],
      "metadata": {
        "colab": {
          "base_uri": "https://localhost:8080/"
        },
        "id": "D2S2UXtShSXT",
        "outputId": "f9accd99-94f1-41a0-c950-3f2c3fba2b49"
      },
      "execution_count": 29,
      "outputs": [
        {
          "output_type": "stream",
          "name": "stdout",
          "text": [
            "Multiplication time: 0.0887345509999875\n"
          ]
        }
      ]
    }
  ]
}